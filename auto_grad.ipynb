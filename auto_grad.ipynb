{
 "cells": [
  {
   "cell_type": "code",
   "execution_count": 2,
   "metadata": {},
   "outputs": [],
   "source": [
    "import torch\n",
    "import numpy as np\n",
    "import pandas as pd\n",
    "import d2l"
   ]
  },
  {
   "cell_type": "code",
   "execution_count": 3,
   "metadata": {},
   "outputs": [],
   "source": [
    "x = torch.arange(12.)\n",
    "x.reshape(3,4)\n",
    "x.requires_grad = True"
   ]
  },
  {
   "cell_type": "code",
   "execution_count": 4,
   "metadata": {},
   "outputs": [
    {
     "name": "stdout",
     "output_type": "stream",
     "text": [
      "None\n"
     ]
    }
   ],
   "source": [
    "print(x.grad)"
   ]
  },
  {
   "cell_type": "code",
   "execution_count": 5,
   "metadata": {},
   "outputs": [
    {
     "data": {
      "text/plain": [
       "tensor([15., 24., 33., 45., 18., 27., 39., 48., 21., 33., 42., 51.])"
      ]
     },
     "execution_count": 5,
     "metadata": {},
     "output_type": "execute_result"
    }
   ],
   "source": [
    "y = torch.mm(x.reshape(3,4),x.reshape(4,3))\n",
    "y.sum().backward()\n",
    "x.grad"
   ]
  },
  {
   "cell_type": "markdown",
   "metadata": {},
   "source": [
    "## 求二阶导"
   ]
  },
  {
   "cell_type": "code",
   "execution_count": 33,
   "metadata": {},
   "outputs": [
    {
     "name": "stdout",
     "output_type": "stream",
     "text": [
      "tensor([27., 48.], grad_fn=<CopyBackwards>)\n",
      "tensor([18., 24.], grad_fn=<CopyBackwards>)\n"
     ]
    }
   ],
   "source": [
    "x = torch.tensor([3.,4.])\n",
    "x.requires_grad = True\n",
    "z = x**3\n",
    "# backward方式\n",
    "\n",
    "z.sum().backward(create_graph=True)\n",
    "print(x.grad)\n",
    "x.grad.data.zero_()\n",
    "x.grad.sum().backward()\n",
    "print(x.grad)"
   ]
  },
  {
   "cell_type": "code",
   "execution_count": 34,
   "metadata": {},
   "outputs": [
    {
     "name": "stdout",
     "output_type": "stream",
     "text": [
      "(tensor([27., 48.], grad_fn=<MulBackward0>),)\n",
      "(tensor([18., 24.]),)\n"
     ]
    }
   ],
   "source": [
    "x = torch.tensor([3.,4.])\n",
    "x.requires_grad = True\n",
    "z = x**3\n",
    "\n",
    "# autograd方式\n",
    "grad_x = torch.autograd.grad(z.sum(), x, create_graph = True )\n",
    "grad_x2 = torch.autograd.grad(outputs = grad_x[0].sum(), inputs = x) #grad_x的第一项才是梯度张量\n",
    "print(grad_x)\n",
    "print(grad_x2)"
   ]
  }
 ],
 "metadata": {
  "kernelspec": {
   "display_name": "Python 3 (ipykernel)",
   "language": "python",
   "name": "python3"
  },
  "language_info": {
   "codemirror_mode": {
    "name": "ipython",
    "version": 3
   },
   "file_extension": ".py",
   "mimetype": "text/x-python",
   "name": "python",
   "nbconvert_exporter": "python",
   "pygments_lexer": "ipython3",
   "version": "3.10.4"
  },
  "orig_nbformat": 4
 },
 "nbformat": 4,
 "nbformat_minor": 2
}
